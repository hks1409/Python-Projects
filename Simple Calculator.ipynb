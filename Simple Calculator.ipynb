{
 "cells": [
  {
   "cell_type": "code",
   "execution_count": 2,
   "metadata": {},
   "outputs": [
    {
     "name": "stdout",
     "output_type": "stream",
     "text": [
      "::CALCULATOR::\n",
      "\n",
      "Operations:\n",
      "1.Add\n",
      "2.Subtract\n",
      "3.Multiply\n",
      "4.Divide\n",
      "Select any one(1-4)\n",
      "\n",
      "Enter your choice: 3\n",
      "Enter 1st number: 12\n",
      "Enter 2nd number: 2\n",
      "12.0 x 2.0 = 24.0\n"
     ]
    }
   ],
   "source": [
    "def add(x, y):\n",
    "    return x + y\n",
    "\n",
    "def subtract(x, y):\n",
    "    return x - y\n",
    "\n",
    "def multiply(x, y):\n",
    "    return x * y\n",
    "\n",
    "def divide(x, y):\n",
    "    return x / y\n",
    "\n",
    "print(\"::CALCULATOR::\")\n",
    "print(\"\\nOperations:\")\n",
    "print(\"1.Add\")\n",
    "print(\"2.Subtract\")\n",
    "print(\"3.Multiply\")\n",
    "print(\"4.Divide\")\n",
    "print(\"Select any one(1-4)\\n\")\n",
    "while True:\n",
    "    choice = input(\"Enter your choice: \")\n",
    "\n",
    "    if choice in ('1', '2', '3', '4'):\n",
    "        a = float(input('Enter 1st number: '))\n",
    "        b = float(input('Enter 2nd number: '))\n",
    "\n",
    "        if choice == '1':\n",
    "            print(a,\"+\",b,\"=\", add(a,b))\n",
    "\n",
    "        elif choice == '2':\n",
    "            print(a,\"-\",b,\"=\", subtract(a,b))\n",
    "\n",
    "        elif choice == '3':\n",
    "            print(a,\"x\",b,\"=\", multiply(a,b))\n",
    "\n",
    "        elif choice == '4':\n",
    "            print(a,\"/\",b,\"=\", divide(a,b))\n",
    "        break\n",
    "    else:\n",
    "        print(\"Invalid Input\")\n"
   ]
  },
  {
   "cell_type": "code",
   "execution_count": null,
   "metadata": {},
   "outputs": [],
   "source": []
  }
 ],
 "metadata": {
  "kernelspec": {
   "display_name": "Python 3",
   "language": "python",
   "name": "python3"
  },
  "language_info": {
   "codemirror_mode": {
    "name": "ipython",
    "version": 3
   },
   "file_extension": ".py",
   "mimetype": "text/x-python",
   "name": "python",
   "nbconvert_exporter": "python",
   "pygments_lexer": "ipython3",
   "version": "3.8.3"
  }
 },
 "nbformat": 4,
 "nbformat_minor": 4
}
