{
 "cells": [
  {
   "cell_type": "code",
   "execution_count": 2,
   "metadata": {},
   "outputs": [
    {
     "name": "stdout",
     "output_type": "stream",
     "text": [
      "Enter a phrase: Indian Space Research Organization\n",
      "Acronym of Indian Space Research Organization: \n",
      "ISRO\n"
     ]
    }
   ],
   "source": [
    "user_input = input(\"Enter a phrase: \")\n",
    "\n",
    "phrase = (user_input.replace('of', '')).split()\n",
    "phrase = (user_input.replace('and', '')).split()\n",
    "acro = \"\"\n",
    "\n",
    "for word in phrase:\n",
    "    acro = acro + word[0].upper()\n",
    "\n",
    "print(f'Acronym of {user_input}: \\n{acro}')"
   ]
  },
  {
   "cell_type": "code",
   "execution_count": null,
   "metadata": {},
   "outputs": [],
   "source": []
  }
 ],
 "metadata": {
  "kernelspec": {
   "display_name": "Python 3",
   "language": "python",
   "name": "python3"
  },
  "language_info": {
   "codemirror_mode": {
    "name": "ipython",
    "version": 3
   },
   "file_extension": ".py",
   "mimetype": "text/x-python",
   "name": "python",
   "nbconvert_exporter": "python",
   "pygments_lexer": "ipython3",
   "version": "3.8.3"
  }
 },
 "nbformat": 4,
 "nbformat_minor": 4
}
