{
 "cells": [
  {
   "cell_type": "code",
   "execution_count": 1,
   "metadata": {},
   "outputs": [],
   "source": [
    "from pyDatalog import pyDatalog\n",
    "\n",
    "pyDatalog.create_terms('a,b,c,d,e,f,X,Y,brother,cousin,grandson,descendent')\n",
    "+brother('b','c')\n",
    "+brother('d','e')\n",
    "+cousin('d','f')\n",
    "+cousin('e','f')\n",
    "+grandson('d','a')\n",
    "+grandson('e','a')\n",
    "+grandson('f','a')\n",
    "+descendent('b','a')\n",
    "+descendent('c','a')\n",
    "+descendent('d','b')\n",
    "+descendent('f','c')\n",
    "+descendent('e','b')"
   ]
  },
  {
   "cell_type": "code",
   "execution_count": 2,
   "metadata": {},
   "outputs": [
    {
     "name": "stdout",
     "output_type": "stream",
     "text": [
      "{('b', 'c'), ('d', 'e')}\n"
     ]
    }
   ],
   "source": [
    "print(pyDatalog.ask('brother(X,Y)'))"
   ]
  },
  {
   "cell_type": "code",
   "execution_count": 3,
   "metadata": {},
   "outputs": [
    {
     "name": "stdout",
     "output_type": "stream",
     "text": [
      "{('d', 'f'), ('e', 'f')}\n"
     ]
    }
   ],
   "source": [
    "print(pyDatalog.ask('cousin(X,Y)'))"
   ]
  },
  {
   "cell_type": "code",
   "execution_count": 4,
   "metadata": {},
   "outputs": [
    {
     "name": "stdout",
     "output_type": "stream",
     "text": [
      "{('f', 'a'), ('e', 'a'), ('d', 'a')}\n"
     ]
    }
   ],
   "source": [
    "print(pyDatalog.ask('grandson(X,Y)'))"
   ]
  },
  {
   "cell_type": "code",
   "execution_count": 5,
   "metadata": {},
   "outputs": [
    {
     "name": "stdout",
     "output_type": "stream",
     "text": [
      "{('b', 'a'), ('d', 'b'), ('e', 'b'), ('c', 'a'), ('f', 'c')}\n"
     ]
    }
   ],
   "source": [
    "print(pyDatalog.ask('descendent(X,Y)'))"
   ]
  },
  {
   "cell_type": "code",
   "execution_count": 7,
   "metadata": {},
   "outputs": [
    {
     "name": "stdout",
     "output_type": "stream",
     "text": [
      "X       \n",
      "--------\n",
      "bear    \n",
      "elephant X  \n",
      "---\n",
      "cat\n"
     ]
    }
   ],
   "source": [
    "from pyDatalog import pyDatalog\n",
    "\n",
    "pyDatalog.create_terms('X,Y,Z,bear,elephant,cat,big,small,black,brown,gray,dark')\n",
    "+big('elephant')\n",
    "+big('bear')\n",
    "+small('cat')\n",
    "+black('cat')\n",
    "+brown('bear')\n",
    "+gray('elephant')\n",
    "dark(X)<=black(X) or brown(X)\n",
    "print(big(X),dark(X))"
   ]
  },
  {
   "cell_type": "code",
   "execution_count": 18,
   "metadata": {},
   "outputs": [],
   "source": [
    "from pyDatalog import pyDatalog\n",
    "\n",
    "pyDatalog.create_terms('X,Y,Z,student,marks,passmarks,grades')\n",
    "+student('Ram')\n",
    "+student('Raju')\n",
    "+student('Priya')\n",
    "+student('Carol')\n",
    "+student('Shyam')\n",
    "+marks('90','Ram')\n",
    "+marks('45','Raju')\n",
    "+marks('85','Priya')\n",
    "+marks('70','Carol')\n",
    "+marks('80','Shyam')\n",
    "+grades('Ram','O')\n",
    "+grades('Raju','E')\n",
    "+grades('Priya','A')\n",
    "+grades('Carol','B')\n",
    "+grades('Shyam','A')"
   ]
  },
  {
   "cell_type": "code",
   "execution_count": 19,
   "metadata": {},
   "outputs": [
    {
     "name": "stdout",
     "output_type": "stream",
     "text": [
      "X  | Y    \n",
      "---|------\n",
      "80 | Shyam\n",
      "70 | Carol\n",
      "85 | Priya\n",
      "45 | Raju \n",
      "90 | Ram  \n"
     ]
    }
   ],
   "source": [
    "print(marks(X,Y))"
   ]
  },
  {
   "cell_type": "code",
   "execution_count": 20,
   "metadata": {},
   "outputs": [
    {
     "name": "stdout",
     "output_type": "stream",
     "text": [
      "X    \n",
      "-----\n",
      "Shyam\n"
     ]
    }
   ],
   "source": [
    "print(marks('80',X))"
   ]
  },
  {
   "cell_type": "code",
   "execution_count": 21,
   "metadata": {},
   "outputs": [
    {
     "name": "stdout",
     "output_type": "stream",
     "text": [
      "X \n",
      "--\n",
      "85\n"
     ]
    }
   ],
   "source": [
    "print(marks(X,'Priya'))"
   ]
  },
  {
   "cell_type": "code",
   "execution_count": 22,
   "metadata": {},
   "outputs": [
    {
     "name": "stdout",
     "output_type": "stream",
     "text": [
      "X    \n",
      "-----\n",
      "Raju \n",
      "Shyam\n"
     ]
    }
   ],
   "source": [
    "passmarks(X)<=grades(X,'E')\n",
    "print(passmarks(X))"
   ]
  },
  {
   "cell_type": "code",
   "execution_count": 24,
   "metadata": {},
   "outputs": [
    {
     "name": "stdout",
     "output_type": "stream",
     "text": [
      "Enter your marks: 67\n",
      "C\n"
     ]
    }
   ],
   "source": [
    "x = int(input('Enter your marks: '))\n",
    "if x>89:\n",
    "    print('O')\n",
    "elif x<90 and x>=80:\n",
    "    print('A')\n",
    "elif x<80 and x>=70:\n",
    "    print('B')\n",
    "elif x<70 and x>=60:\n",
    "    print('C')\n",
    "elif x<60 and x>=50:\n",
    "    print('D')\n",
    "else:\n",
    "    print('E')\n",
    "    "
   ]
  },
  {
   "cell_type": "code",
   "execution_count": 26,
   "metadata": {},
   "outputs": [
    {
     "name": "stdout",
     "output_type": "stream",
     "text": [
      "Marks od students are:\n",
      "90 Ram\n",
      "85 Priya\n",
      "80 Shyam\n",
      "70 Carol\n",
      "45 Raju\n",
      "Student who scored 80:  Shyam\n",
      "Priya Scored:  85\n",
      "Student who failed:  Raju\n",
      "Students and their grades: \n",
      "Ram O\n",
      "Priya C\n",
      "Shyam C\n",
      "Carol C\n",
      "Raju C\n"
     ]
    }
   ],
   "source": [
    "marks = {90:'Ram',85:'Priya',80:'Shyam',70:'Carol',45:'Raju'}\n",
    "print('Marks od students are:')\n",
    "\n",
    "for i in marks:\n",
    "    print(i,marks[i])    \n",
    "print('Student who scored 80: ',marks[80])\n",
    "\n",
    "for i in marks:\n",
    "    if marks[i] == 'Priya':\n",
    "        print('Priya Scored: ',i)\n",
    "        \n",
    "for i in marks:\n",
    "    if i<50:\n",
    "        print('Student who failed: ',marks[i])\n",
    "print('Students and their grades: ')\n",
    "\n",
    "for i in marks:\n",
    "    if i>=90:\n",
    "        print(marks[i], 'O')\n",
    "    elif x<90 and x>=80:\n",
    "        print(marks[i], 'A')\n",
    "    elif x<80 and x>=70:\n",
    "        print(marks[i], 'B')\n",
    "    elif x<70 and x>=60:\n",
    "        print(marks[i], 'C')\n",
    "    elif x<60 and x>=50:\n",
    "        print(marks[i], 'D')\n",
    "    else:\n",
    "        print(marks[i], 'E')\n"
   ]
  },
  {
   "cell_type": "code",
   "execution_count": 27,
   "metadata": {},
   "outputs": [
    {
     "name": "stdout",
     "output_type": "stream",
     "text": [
      "Enter a number: 8\n",
      "N    \n",
      "-----\n",
      "40320\n"
     ]
    }
   ],
   "source": [
    "from pyDatalog import pyDatalog\n",
    "\n",
    "pyDatalog.create_terms('factorial,N')\n",
    "num = int(input('Enter a number: '))\n",
    "factorial[N] = N*factorial[N-1]\n",
    "factorial[1] = 1\n",
    "print(factorial[num] == N)"
   ]
  },
  {
   "cell_type": "code",
   "execution_count": null,
   "metadata": {},
   "outputs": [],
   "source": []
  }
 ],
 "metadata": {
  "kernelspec": {
   "display_name": "Python 3",
   "language": "python",
   "name": "python3"
  },
  "language_info": {
   "codemirror_mode": {
    "name": "ipython",
    "version": 3
   },
   "file_extension": ".py",
   "mimetype": "text/x-python",
   "name": "python",
   "nbconvert_exporter": "python",
   "pygments_lexer": "ipython3",
   "version": "3.8.3"
  }
 },
 "nbformat": 4,
 "nbformat_minor": 4
}
