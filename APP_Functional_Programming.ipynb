{
 "cells": [
  {
   "cell_type": "code",
   "execution_count": 1,
   "metadata": {},
   "outputs": [
    {
     "name": "stdout",
     "output_type": "stream",
     "text": [
      "False\n"
     ]
    }
   ],
   "source": [
    "x = lambda x,y : x and y\n",
    "\n",
    "print(x(True,False))"
   ]
  },
  {
   "cell_type": "code",
   "execution_count": 2,
   "metadata": {},
   "outputs": [
    {
     "name": "stdout",
     "output_type": "stream",
     "text": [
      "12\n"
     ]
    }
   ],
   "source": [
    "multiply = lambda a,b: a*b\n",
    "print(multiply(3,4))"
   ]
  },
  {
   "cell_type": "code",
   "execution_count": 4,
   "metadata": {},
   "outputs": [
    {
     "name": "stdout",
     "output_type": "stream",
     "text": [
      "Enter a number: 3\n",
      "81\n"
     ]
    }
   ],
   "source": [
    "def square(x):\n",
    "    return x**2\n",
    "\n",
    "def twice(f,x):\n",
    "    return f(f(x))\n",
    "\n",
    "def quad(n):\n",
    "    return twice(square,n)\n",
    "\n",
    "num = int(input(\"Enter a number: \"))\n",
    "\n",
    "print(quad(num))"
   ]
  },
  {
   "cell_type": "code",
   "execution_count": 5,
   "metadata": {},
   "outputs": [
    {
     "name": "stdout",
     "output_type": "stream",
     "text": [
      "Enter your input: Hello! My name is Harsh\n",
      "Enter the shift: 7\n",
      "Cipher: Olssv! Tf uhtl pz Ohyzo\n"
     ]
    }
   ],
   "source": [
    "upper = {ascii:chr(ascii) for ascii in range(65,91)}\n",
    "lower = {ascii:chr(ascii) for ascii in range(97,123)}\n",
    "digit = {ascii:chr(ascii) for ascii in range(48,58)}\n",
    "\n",
    "\n",
    "def ceasar(s, k):\n",
    "    for c in s:\n",
    "        o = ord(c)\n",
    "        if (o not in upper and o not in lower) or o in digit:\n",
    "            yield o\n",
    "        else:\n",
    "\n",
    "            if o in upper and o + k % 26 in upper:\n",
    "                yield o + k % 26\n",
    "  \n",
    "            elif o in lower and o + k % 26 in lower:\n",
    "                yield o + k % 26\n",
    "\n",
    "            else: \n",
    "                yield o + k % 26 -26\n",
    "s=input(\"Enter your input: \")\n",
    "k=int(input(\"Enter the shift: \"))\n",
    "x = (''.join(map(chr, ceasar(s, k))))\n",
    "\n",
    "print(\"Cipher: {}\".format(x))"
   ]
  },
  {
   "cell_type": "code",
   "execution_count": 7,
   "metadata": {},
   "outputs": [
    {
     "name": "stdout",
     "output_type": "stream",
     "text": [
      "Player 2 is more consistent.\n"
     ]
    }
   ],
   "source": [
    "import functools\n",
    "import operator\n",
    "\n",
    "player1 = [100, 20, 50, 66, 72, 32]\n",
    "player2 = [56, 65, 78, 45, 33, 69]\n",
    "\n",
    "mean1 = (functools.reduce(operator.add, player1)) / len(player1)\n",
    "mean2 = (functools.reduce(operator.add, player2)) / len(player2)\n",
    "\n",
    "m1 = [mean1] * len(player1)\n",
    "m2 = [mean2] * len(player2)\n",
    "\n",
    "def variance(p, m):\n",
    "    var = p - m\n",
    "    return var**2\n",
    "    \n",
    "sqvar1 = list(map(variance, player1, m1))\n",
    "sqvar2 = list(map(variance, player2, m2))\n",
    "\n",
    "var1 = (functools.reduce(operator.add, sqvar1)) / len(sqvar1)\n",
    "var2 = (functools.reduce(operator.add, sqvar2)) / len(sqvar2)\n",
    "\n",
    "sd1 = var1**0.5\n",
    "sd2 = var2**0.5\n",
    "\n",
    "if sd1 == sd2:\n",
    "    print(\"Both players are consistent.\")\n",
    "elif sd1 > sd2:\n",
    "    print(\"Player 2 is more consistent.\")\n",
    "else:\n",
    "    print(\"Player 1 is more consistent.\")"
   ]
  },
  {
   "cell_type": "code",
   "execution_count": 8,
   "metadata": {},
   "outputs": [
    {
     "name": "stdout",
     "output_type": "stream",
     "text": [
      "Student #2 failed in at least one subject.\n",
      "Student #3 failed in at least one subject.\n"
     ]
    }
   ],
   "source": [
    "marks = [[88, 77, 66, 77, 99],[56, 78, 31, 35, 54],[53, 71, 64, 56, 14]]\n",
    "\n",
    "def fail(marks):\n",
    "    for i in marks:\n",
    "        if i < 40:\n",
    "            return True\n",
    "\n",
    "result = filter(fail, marks)\n",
    "res = list(result)\n",
    "for i in range(0, len(marks)):\n",
    "    if marks[i] in res:\n",
    "        print(\"Student #{} failed in at least one subject.\".format(i+1))"
   ]
  },
  {
   "cell_type": "code",
   "execution_count": 9,
   "metadata": {},
   "outputs": [
    {
     "name": "stdout",
     "output_type": "stream",
     "text": [
      "IPL tweets: 4\n",
      "COVID19 tweets: 4\n"
     ]
    }
   ],
   "source": [
    "import functools\n",
    "import operator\n",
    "\n",
    "tweets = [\"First ever player to score 6000 runs in #IPL - Just another day at the ‘office’ for #ViratKohli!\",\n",
    "          \"My ⁦@rajasthanroyals outfit has arrived! Now to be well enough to wear it....Thanks ⁦@IamSanjuSamson & the RR management! All the best for the rest of the #IPL!\",\n",
    "         \"How amazing that both the centuries in this year’s #IPL have been scored by Malayalis, when Kerala has so long been regarded as a cricketing backwater!\",\n",
    "         \"Most 10-wicket wins in IPL: 4 - RCB, 2 - MI, 2 - SRH, 2 - CSK #RCBvsRR #RCB #RR #IPL #IPL2021 #CricTracker\",\n",
    "         \"India would have never eliminated polio, if people had to BUY polio vaccines. Same logic applies for #COVID19\",\n",
    "         \"The Ontario Science Table @COVIDSciOntario has recommended that 50% of all available vaccines go to hotspot neighbourhoods with the highest rates of #COVID19. RT if you agree the Ontario government should immediately do this to save lives.\",\n",
    "         \"UPA home minister resigned after terror attack on Mumbai. Why doesn’t NDA health minister resign for this #COVID19 mess? I would prefer Modi to resign as buck stops at him.But being thick skinned, he won’t!\",\n",
    "         \"Khalsa Aid India arranges Oxygen concentrators for COVID-19 patients, will deliver them in Delhi. #COVID19\"]\n",
    "\n",
    "ipl = [\"#ipl\"] * len(tweets)\n",
    "covid = [\"#covid19\"] * len(tweets)\n",
    "\n",
    "def segregate_tweets(lst, topic):\n",
    "    if topic in lst.lower():\n",
    "        return lst\n",
    "\n",
    "resultipl = list(map(segregate_tweets, tweets, ipl))\n",
    "resultcovid = list(map(segregate_tweets, tweets, covid))\n",
    "\n",
    "def filter_list(lst):\n",
    "    if lst != \"\":\n",
    "        return lst\n",
    "\n",
    "result_ipl = list(filter(filter_list, resultipl))\n",
    "result_covid = list(filter(filter_list, resultcovid))\n",
    "\n",
    "print(\"IPL tweets: {}\".format(len(result_ipl)))\n",
    "print(\"COVID19 tweets: {}\".format(len(result_covid)))"
   ]
  },
  {
   "cell_type": "code",
   "execution_count": 12,
   "metadata": {},
   "outputs": [
    {
     "name": "stdout",
     "output_type": "stream",
     "text": [
      "24.52427368955093\n",
      "28.042824394129774\n",
      "Player 2 is better\n"
     ]
    }
   ],
   "source": [
    "from functools import reduce\n",
    "import math\n",
    "\n",
    "a = [19, 41, 92, 67, 53]\n",
    "b = [13, 61, 92, 31, 69]\n",
    "\n",
    "mean_a = sum(a)/len(a)\n",
    "mean_b = sum(b)/len(b)\n",
    "\n",
    "def SD(x, y):\n",
    "    f = (y-mean_a)**2   \n",
    "    return x+f\n",
    "\n",
    "sd_a = math.sqrt(reduce(SD, a, 0)/len(a))\n",
    "sd_b = math.sqrt(reduce(SD, b, 0)/len(b))\n",
    "\n",
    "print(sd_a)\n",
    "print(sd_b)\n",
    "\n",
    "if sd_a > sd_b:\n",
    "    print(\"Player 1 is better\")\n",
    "else:\n",
    "\tprint(\"Player 2 is better\")"
   ]
  },
  {
   "cell_type": "code",
   "execution_count": null,
   "metadata": {},
   "outputs": [],
   "source": []
  }
 ],
 "metadata": {
  "kernelspec": {
   "display_name": "Python 3",
   "language": "python",
   "name": "python3"
  },
  "language_info": {
   "codemirror_mode": {
    "name": "ipython",
    "version": 3
   },
   "file_extension": ".py",
   "mimetype": "text/x-python",
   "name": "python",
   "nbconvert_exporter": "python",
   "pygments_lexer": "ipython3",
   "version": "3.8.3"
  }
 },
 "nbformat": 4,
 "nbformat_minor": 4
}
